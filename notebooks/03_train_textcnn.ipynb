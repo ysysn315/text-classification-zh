{
 "cells": [
  {
   "cell_type": "markdown",
   "metadata": {},
   "source": [
    "# Day 3: TextCNN模型训练\n",
    "\n",
    "实现和训练TextCNN模型进行中文新闻分类\n"
   ]
  },
  {
   "cell_type": "code",
   "execution_count": null,
   "metadata": {
    "ExecuteTime": {
     "end_time": "2025-10-29T11:41:11.920198Z",
     "start_time": "2025-10-29T11:41:02.012205Z"
    }
   },
   "outputs": [
    {
     "name": "stdout",
     "output_type": "stream",
     "text": [
      "使用设备: cuda\n",
      "导入成功\n"
     ]
    }
   ],
   "source": [
    "# Cell 1: 导入库\n",
    "import sys\n",
    "sys.path.append('..')\n",
    "\n",
    "import torch\n",
    "import torch.nn as nn\n",
    "import torch.optim as optim\n",
    "from torch.utils.data import DataLoader\n",
    "import pickle\n",
    "import numpy as np\n",
    "from tqdm import tqdm\n",
    "import matplotlib.pyplot as plt\n",
    "\n",
    "# 导入自定义模块\n",
    "from src.models.textcnn import TextCNN\n",
    "from src.utils.dataset import TextDataset\n",
    "\n",
    "# 设置随机种子\n",
    "torch.manual_seed(42)\n",
    "np.random.seed(42)\n",
    "\n",
    "# 检查GPU\n",
    "device = torch.device('cuda' if torch.cuda.is_available() else 'cpu')\n",
    "print(f\"使用设备: {device}\")\n",
    "print(\"导入成功\")\n"
   ]
  },
  {
   "cell_type": "code",
   "execution_count": null,
   "metadata": {
    "ExecuteTime": {
     "end_time": "2025-10-29T11:41:35.379271Z",
     "start_time": "2025-10-29T11:41:18.605325Z"
    }
   },
   "outputs": [
    {
     "name": "stdout",
     "output_type": "stream",
     "text": [
      "加载数据...\n",
      "加载数据: 45462 条\n",
      "加载数据: 9742 条\n",
      "加载数据: 9743 条\n",
      "\n",
      "训练集: 45462 条, 711 batches\n",
      "验证集: 9742 条, 153 batches\n",
      "测试集: 9743 条, 153 batches\n",
      "词表大小: 117355\n",
      "数据加载完成\n"
     ]
    }
   ],
   "source": [
    "# Cell 2: 加载数据\n",
    "print(\"加载数据...\")\n",
    "\n",
    "train_dataset = TextDataset('../data/processed/train_processed.pkl')\n",
    "val_dataset = TextDataset('../data/processed/val_processed.pkl')\n",
    "test_dataset = TextDataset('../data/processed/test_processed.pkl')\n",
    "\n",
    "# 创建DataLoader\n",
    "batch_size = 64\n",
    "\n",
    "train_loader = DataLoader(train_dataset, batch_size=batch_size, shuffle=True)\n",
    "val_loader = DataLoader(val_dataset, batch_size=batch_size, shuffle=False)\n",
    "test_loader = DataLoader(test_dataset, batch_size=batch_size, shuffle=False)\n",
    "\n",
    "print(f\"\\n训练集: {len(train_dataset)} 条, {len(train_loader)} batches\")\n",
    "print(f\"验证集: {len(val_dataset)} 条, {len(val_loader)} batches\")\n",
    "print(f\"测试集: {len(test_dataset)} 条, {len(test_loader)} batches\")\n",
    "\n",
    "# 读取词表\n",
    "with open('../data/processed/vocab.pkl', 'rb') as f:\n",
    "    vocab = pickle.load(f)\n",
    "    \n",
    "print(f\"词表大小: {len(vocab)}\")\n",
    "print(\"数据加载完成\")\n"
   ]
  },
  {
   "cell_type": "code",
   "execution_count": null,
   "metadata": {
    "ExecuteTime": {
     "end_time": "2025-10-29T11:43:38.252343Z",
     "start_time": "2025-10-29T11:43:38.018292Z"
    }
   },
   "outputs": [
    {
     "name": "stdout",
     "output_type": "stream",
     "text": [
      "初始化TextCNN模型...\n",
      "TextCNN(\n",
      "  (embedding): Embedding(117355, 300)\n",
      "  (convs): ModuleList(\n",
      "    (0): Conv1d(300, 100, kernel_size=(3,), stride=(1,))\n",
      "    (1): Conv1d(300, 100, kernel_size=(4,), stride=(1,))\n",
      "    (2): Conv1d(300, 100, kernel_size=(5,), stride=(1,))\n",
      "  )\n",
      "  (dropout): Dropout(p=0.5, inplace=False)\n",
      "  (fc): Linear(in_features=300, out_features=14, bias=True)\n",
      ")\n",
      "\n",
      "模型参数量: 35,571,014\n",
      "模型初始化完成\n"
     ]
    }
   ],
   "source": [
    "# Cell 3: 初始化模型\n",
    "print(\"初始化TextCNN模型...\")\n",
    "\n",
    "model = TextCNN(\n",
    "    vocab_size=len(vocab),\n",
    "    embed_dim=300,\n",
    "    num_classes=14,\n",
    "    num_filters=100,\n",
    "    filter_sizes=[3, 4, 5],\n",
    "    dropout=0.5\n",
    ")\n",
    "\n",
    "model = model.to(device)\n",
    "\n",
    "# 打印模型结构\n",
    "print(model)\n",
    "print(f\"\\n模型参数量: {sum(p.numel() for p in model.parameters()):,}\")\n",
    "print(\"模型初始化完成\")\n"
   ]
  },
  {
   "cell_type": "code",
   "execution_count": null,
   "metadata": {
    "ExecuteTime": {
     "end_time": "2025-10-29T11:45:47.889743Z",
     "start_time": "2025-10-29T11:45:47.870566Z"
    }
   },
   "outputs": [
    {
     "name": "stdout",
     "output_type": "stream",
     "text": [
      "训练函数定义完成\n"
     ]
    }
   ],
   "source": [
    "# Cell 4: 定义训练和评估函数\n",
    "\n",
    "def train_epoch(model, dataloader, criterion, optimizer, device):\n",
    "    \"\"\"训练一个epoch\"\"\"\n",
    "    model.train()\n",
    "    total_loss = 0\n",
    "    correct = 0\n",
    "    total = 0\n",
    "    \n",
    "    for ids, labels in tqdm(dataloader, desc='Training'):\n",
    "        ids = ids.to(device)\n",
    "        labels = labels.to(device)\n",
    "        \n",
    "        # 前向传播\n",
    "        outputs = model(ids)\n",
    "        loss = criterion(outputs, labels)\n",
    "        \n",
    "        # 反向传播\n",
    "        optimizer.zero_grad()\n",
    "        loss.backward()\n",
    "        optimizer.step()\n",
    "        \n",
    "        # 统计\n",
    "        total_loss += loss.item()\n",
    "        _, predicted = torch.max(outputs, 1)\n",
    "        total += labels.size(0)\n",
    "        correct += (predicted == labels).sum().item()\n",
    "    \n",
    "    avg_loss = total_loss / len(dataloader)\n",
    "    accuracy = 100 * correct / total\n",
    "    \n",
    "    return avg_loss, accuracy\n",
    "\n",
    "\n",
    "def evaluate(model, dataloader, criterion, device):\n",
    "    \"\"\"评估模型\"\"\"\n",
    "    model.eval()\n",
    "    total_loss = 0\n",
    "    correct = 0\n",
    "    total = 0\n",
    "    \n",
    "    with torch.no_grad():\n",
    "        for ids, labels in tqdm(dataloader, desc='Evaluating'):\n",
    "            ids = ids.to(device)\n",
    "            labels = labels.to(device)\n",
    "            \n",
    "            outputs = model(ids)\n",
    "            loss = criterion(outputs, labels)\n",
    "            \n",
    "            total_loss += loss.item()\n",
    "            _, predicted = torch.max(outputs, 1)\n",
    "            total += labels.size(0)\n",
    "            correct += (predicted == labels).sum().item()\n",
    "    \n",
    "    avg_loss = total_loss / len(dataloader)\n",
    "    accuracy = 100 * correct / total\n",
    "    \n",
    "    return avg_loss, accuracy\n",
    "\n",
    "print(\"训练函数定义完成\")\n"
   ]
  },
  {
   "cell_type": "code",
   "execution_count": null,
   "metadata": {
    "ExecuteTime": {
     "end_time": "2025-10-29T11:48:04.860416Z",
     "start_time": "2025-10-29T11:48:01.827388Z"
    }
   },
   "outputs": [
    {
     "name": "stdout",
     "output_type": "stream",
     "text": [
      "============================================================\n",
      "使用加权损失函数重新训练\n",
      "============================================================\n",
      "\n",
      "重新初始化模型...\n",
      "配置完成，开始训练...\n"
     ]
    }
   ],
   "source": [
    "# ===== 重新训练（使用类别权重）=====\n",
    "import torch\n",
    "import torch.nn as nn\n",
    "import torch.optim as optim\n",
    "import numpy as np\n",
    "\n",
    "print(\"=\"*60)\n",
    "print(\"使用加权损失函数重新训练\")\n",
    "print(\"=\"*60)\n",
    "\n",
    "\n",
    "print(\"\\n重新初始化模型...\")\n",
    "model = TextCNN(\n",
    "    vocab_size=len(vocab),\n",
    "    embed_dim=300,\n",
    "    num_classes=14,\n",
    "    num_filters=100,\n",
    "    filter_sizes=[3, 4, 5],\n",
    "    dropout=0.5\n",
    ").to(device)\n",
    "\n",
    "# 3. 使用加权损失函数\n",
    "criterion = nn.CrossEntropyLoss()\n",
    "\n",
    "# 4. 优化器\n",
    "optimizer = optim.Adam(model.parameters(), lr=0.001)\n",
    "\n",
    "# 5. 学习率调度器\n",
    "scheduler = optim.lr_scheduler.ReduceLROnPlateau(\n",
    "    optimizer, mode='max', factor=0.5, patience=2\n",
    ")\n",
    "\n",
    "# 6. 训练参数\n",
    "num_epochs = 10\n",
    "best_val_acc = 0\n",
    "history = {\n",
    "    'train_loss': [],\n",
    "    'train_acc': [],\n",
    "    'val_loss': [],\n",
    "    'val_acc': []\n",
    "}\n",
    "\n",
    "print(\"配置完成，开始训练...\")\n"
   ]
  },
  {
   "cell_type": "code",
   "execution_count": null,
   "metadata": {
    "ExecuteTime": {
     "end_time": "2025-10-29T12:02:10.448062Z",
     "start_time": "2025-10-29T11:48:16.165490Z"
    }
   },
   "outputs": [
    {
     "name": "stdout",
     "output_type": "stream",
     "text": [
      "============================================================\n",
      "开始训练TextCNN模型\n",
      "============================================================\n",
      "\n",
      "Epoch 1/10\n",
      "----------------------------------------\n"
     ]
    },
    {
     "name": "stderr",
     "output_type": "stream",
     "text": [
      "Training: 100%|██████████| 711/711 [00:25<00:00, 28.34it/s]\n",
      "Evaluating: 100%|██████████| 153/153 [00:01<00:00, 121.41it/s]\n"
     ]
    },
    {
     "name": "stdout",
     "output_type": "stream",
     "text": [
      "Train Loss: 0.8651, Train Acc: 74.23%\n",
      "Val Loss: 0.3058, Val Acc: 91.17%\n",
      "保存最佳模型 (Val Acc: 91.17%)\n",
      "\n",
      "Epoch 2/10\n",
      "----------------------------------------\n"
     ]
    },
    {
     "name": "stderr",
     "output_type": "stream",
     "text": [
      "Training: 100%|██████████| 711/711 [00:23<00:00, 29.70it/s]\n",
      "Evaluating: 100%|██████████| 153/153 [00:01<00:00, 122.59it/s]\n"
     ]
    },
    {
     "name": "stdout",
     "output_type": "stream",
     "text": [
      "Train Loss: 0.4314, Train Acc: 87.29%\n",
      "Val Loss: 0.2264, Val Acc: 93.27%\n",
      "保存最佳模型 (Val Acc: 93.27%)\n",
      "\n",
      "Epoch 3/10\n",
      "----------------------------------------\n"
     ]
    },
    {
     "name": "stderr",
     "output_type": "stream",
     "text": [
      "Training: 100%|██████████| 711/711 [00:24<00:00, 29.21it/s]\n",
      "Evaluating: 100%|██████████| 153/153 [00:01<00:00, 121.77it/s]\n"
     ]
    },
    {
     "name": "stdout",
     "output_type": "stream",
     "text": [
      "Train Loss: 0.3280, Train Acc: 90.42%\n",
      "Val Loss: 0.1967, Val Acc: 94.42%\n",
      "保存最佳模型 (Val Acc: 94.42%)\n",
      "\n",
      "Epoch 4/10\n",
      "----------------------------------------\n"
     ]
    },
    {
     "name": "stderr",
     "output_type": "stream",
     "text": [
      "Training: 100%|██████████| 711/711 [00:24<00:00, 29.21it/s]\n",
      "Evaluating: 100%|██████████| 153/153 [00:01<00:00, 120.00it/s]\n"
     ]
    },
    {
     "name": "stdout",
     "output_type": "stream",
     "text": [
      "Train Loss: 0.2439, Train Acc: 92.69%\n",
      "Val Loss: 0.1904, Val Acc: 94.56%\n",
      "保存最佳模型 (Val Acc: 94.56%)\n",
      "\n",
      "Epoch 5/10\n",
      "----------------------------------------\n"
     ]
    },
    {
     "name": "stderr",
     "output_type": "stream",
     "text": [
      "Training: 100%|██████████| 711/711 [00:24<00:00, 28.88it/s]\n",
      "Evaluating: 100%|██████████| 153/153 [00:01<00:00, 118.53it/s]\n"
     ]
    },
    {
     "name": "stdout",
     "output_type": "stream",
     "text": [
      "Train Loss: 0.1718, Train Acc: 94.74%\n",
      "Val Loss: 0.1839, Val Acc: 94.72%\n",
      "保存最佳模型 (Val Acc: 94.72%)\n",
      "\n",
      "Epoch 6/10\n",
      "----------------------------------------\n"
     ]
    },
    {
     "name": "stderr",
     "output_type": "stream",
     "text": [
      "Training: 100%|██████████| 711/711 [00:24<00:00, 28.94it/s]\n",
      "Evaluating: 100%|██████████| 153/153 [00:01<00:00, 117.84it/s]\n"
     ]
    },
    {
     "name": "stdout",
     "output_type": "stream",
     "text": [
      "Train Loss: 0.1184, Train Acc: 96.29%\n",
      "Val Loss: 0.1988, Val Acc: 94.72%\n",
      "\n",
      "Epoch 7/10\n",
      "----------------------------------------\n"
     ]
    },
    {
     "name": "stderr",
     "output_type": "stream",
     "text": [
      "Training: 100%|██████████| 711/711 [00:24<00:00, 29.10it/s]\n",
      "Evaluating: 100%|██████████| 153/153 [00:01<00:00, 114.24it/s]\n"
     ]
    },
    {
     "name": "stdout",
     "output_type": "stream",
     "text": [
      "Train Loss: 0.0867, Train Acc: 97.36%\n",
      "Val Loss: 0.1960, Val Acc: 94.88%\n",
      "保存最佳模型 (Val Acc: 94.88%)\n",
      "\n",
      "Epoch 8/10\n",
      "----------------------------------------\n"
     ]
    },
    {
     "name": "stderr",
     "output_type": "stream",
     "text": [
      "Training: 100%|██████████| 711/711 [00:24<00:00, 28.60it/s]\n",
      "Evaluating: 100%|██████████| 153/153 [00:01<00:00, 114.06it/s]\n"
     ]
    },
    {
     "name": "stdout",
     "output_type": "stream",
     "text": [
      "Train Loss: 0.0669, Train Acc: 97.91%\n",
      "Val Loss: 0.2065, Val Acc: 94.94%\n",
      "保存最佳模型 (Val Acc: 94.94%)\n",
      "\n",
      "Epoch 9/10\n",
      "----------------------------------------\n"
     ]
    },
    {
     "name": "stderr",
     "output_type": "stream",
     "text": [
      "Training: 100%|██████████| 711/711 [00:25<00:00, 28.37it/s]\n",
      "Evaluating: 100%|██████████| 153/153 [00:01<00:00, 111.62it/s]\n"
     ]
    },
    {
     "name": "stdout",
     "output_type": "stream",
     "text": [
      "Train Loss: 0.0546, Train Acc: 98.24%\n",
      "Val Loss: 0.2305, Val Acc: 94.53%\n",
      "\n",
      "Epoch 10/10\n",
      "----------------------------------------\n"
     ]
    },
    {
     "name": "stderr",
     "output_type": "stream",
     "text": [
      "Training: 100%|██████████| 711/711 [00:25<00:00, 27.98it/s]\n",
      "Evaluating: 100%|██████████| 153/153 [00:01<00:00, 110.97it/s]"
     ]
    },
    {
     "name": "stdout",
     "output_type": "stream",
     "text": [
      "Train Loss: 0.0438, Train Acc: 98.62%\n",
      "Val Loss: 0.2314, Val Acc: 94.83%\n",
      "\n",
      "============================================================\n",
      " 训练完成！\n",
      "============================================================\n",
      "最佳验证准确率: 94.94%\n"
     ]
    },
    {
     "name": "stderr",
     "output_type": "stream",
     "text": [
      "\n"
     ]
    }
   ],
   "source": [
    "# Cell 6: 开始训练！\n",
    "print(\"=\"*60)\n",
    "print(\"开始训练TextCNN模型\")\n",
    "print(\"=\"*60)\n",
    "\n",
    "for epoch in range(num_epochs):\n",
    "    print(f\"\\nEpoch {epoch+1}/{num_epochs}\")\n",
    "    print(\"-\" * 40)\n",
    "    \n",
    "    # 训练\n",
    "    train_loss, train_acc = train_epoch(model, train_loader, criterion, optimizer, device)\n",
    "    \n",
    "    # 验证\n",
    "    val_loss, val_acc = evaluate(model, val_loader, criterion, device)\n",
    "    \n",
    "    # 记录\n",
    "    history['train_loss'].append(train_loss)\n",
    "    history['train_acc'].append(train_acc)\n",
    "    history['val_loss'].append(val_loss)\n",
    "    history['val_acc'].append(val_acc)\n",
    "    \n",
    "    # 打印结果\n",
    "    print(f\"Train Loss: {train_loss:.4f}, Train Acc: {train_acc:.2f}%\")\n",
    "    print(f\"Val Loss: {val_loss:.4f}, Val Acc: {val_acc:.2f}%\")\n",
    "    \n",
    "    # 保存最佳模型\n",
    "    if val_acc > best_val_acc:\n",
    "        best_val_acc = val_acc\n",
    "        torch.save(model.state_dict(), '../output/textcnn_best.pth')\n",
    "        print(f\"保存最佳模型 (Val Acc: {val_acc:.2f}%)\")\n",
    "    \n",
    "    # 学习率调度\n",
    "    scheduler.step(val_acc)\n",
    "\n",
    "print(\"\\n\" + \"=\"*60)\n",
    "print(\" 训练完成！\")\n",
    "print(\"=\"*60)\n",
    "print(f\"最佳验证准确率: {best_val_acc:.2f}%\")\n"
   ]
  },
  {
   "cell_type": "code",
   "execution_count": null,
   "metadata": {
    "ExecuteTime": {
     "end_time": "2025-10-29T12:21:22.327267Z",
     "start_time": "2025-10-29T12:21:22.160730Z"
    }
   },
   "outputs": [
    {
     "ename": "NameError",
     "evalue": "name 'history' is not defined",
     "output_type": "error",
     "traceback": [
      "\u001b[1;31m---------------------------------------------------------------------------\u001b[0m",
      "\u001b[1;31mNameError\u001b[0m                                 Traceback (most recent call last)",
      "Cell \u001b[1;32mIn[2], line 10\u001b[0m\n\u001b[0;32m      7\u001b[0m fig, (ax1, ax2) \u001b[38;5;241m=\u001b[39m plt\u001b[38;5;241m.\u001b[39msubplots(\u001b[38;5;241m1\u001b[39m, \u001b[38;5;241m2\u001b[39m, figsize\u001b[38;5;241m=\u001b[39m(\u001b[38;5;241m14\u001b[39m, \u001b[38;5;241m5\u001b[39m))\n\u001b[0;32m      9\u001b[0m \u001b[38;5;66;03m# 损失曲线\u001b[39;00m\n\u001b[1;32m---> 10\u001b[0m ax1\u001b[38;5;241m.\u001b[39mplot(\u001b[43mhistory\u001b[49m[\u001b[38;5;124m'\u001b[39m\u001b[38;5;124mtrain_loss\u001b[39m\u001b[38;5;124m'\u001b[39m], label\u001b[38;5;241m=\u001b[39m\u001b[38;5;124m'\u001b[39m\u001b[38;5;124mTrain Loss\u001b[39m\u001b[38;5;124m'\u001b[39m, marker\u001b[38;5;241m=\u001b[39m\u001b[38;5;124m'\u001b[39m\u001b[38;5;124mo\u001b[39m\u001b[38;5;124m'\u001b[39m)\n\u001b[0;32m     11\u001b[0m ax1\u001b[38;5;241m.\u001b[39mplot(history[\u001b[38;5;124m'\u001b[39m\u001b[38;5;124mval_loss\u001b[39m\u001b[38;5;124m'\u001b[39m], label\u001b[38;5;241m=\u001b[39m\u001b[38;5;124m'\u001b[39m\u001b[38;5;124mVal Loss\u001b[39m\u001b[38;5;124m'\u001b[39m, marker\u001b[38;5;241m=\u001b[39m\u001b[38;5;124m'\u001b[39m\u001b[38;5;124ms\u001b[39m\u001b[38;5;124m'\u001b[39m)\n\u001b[0;32m     12\u001b[0m ax1\u001b[38;5;241m.\u001b[39mset_xlabel(\u001b[38;5;124m'\u001b[39m\u001b[38;5;124mEpoch\u001b[39m\u001b[38;5;124m'\u001b[39m)\n",
      "\u001b[1;31mNameError\u001b[0m: name 'history' is not defined"
     ]
    },
    {
     "data": {
      "image/png": "[encoded data removed]",
      "text/plain": [
       "<Figure size 1400x500 with 2 Axes>"
      ]
     },
     "metadata": {},
     "output_type": "display_data"
    }
   ],
   "source": [
    "# Cell 7: 可视化训练过程\n",
    "import matplotlib.pyplot as plt\n",
    "\n",
    "plt.rcParams['font.sans-serif'] = ['SimHei']  # 中文显示\n",
    "plt.rcParams['axes.unicode_minus'] = False\n",
    "\n",
    "fig, (ax1, ax2) = plt.subplots(1, 2, figsize=(14, 5))\n",
    "\n",
    "# 损失曲线\n",
    "ax1.plot(history['train_loss'], label='Train Loss', marker='o')\n",
    "ax1.plot(history['val_loss'], label='Val Loss', marker='s')\n",
    "ax1.set_xlabel('Epoch')\n",
    "ax1.set_ylabel('Loss')\n",
    "ax1.set_title('训练和验证损失')\n",
    "ax1.legend()\n",
    "ax1.grid(True)\n",
    "\n",
    "# 准确率曲线\n",
    "ax2.plot(history['train_acc'], label='Train Acc', marker='o')\n",
    "ax2.plot(history['val_acc'], label='Val Acc', marker='s')\n",
    "ax2.set_xlabel('Epoch')\n",
    "ax2.set_ylabel('Accuracy (%)')\n",
    "ax2.set_title('训练和验证准确率')\n",
    "ax2.legend()\n",
    "ax2.grid(True)\n",
    "\n",
    "plt.tight_layout()\n",
    "plt.savefig('../output/textcnn_training_curve.png', dpi=150)\n",
    "plt.show()\n",
    "\n",
    "print(\"训练曲线已保存\")\n"
   ]
  },
  {
   "cell_type": "code",
   "execution_count": null,
   "metadata": {
    "ExecuteTime": {
     "end_time": "2025-10-29T12:26:37.346656Z",
     "start_time": "2025-10-29T12:26:37.312795Z"
    }
   },
   "outputs": [
    {
     "name": "stdout",
     "output_type": "stream",
     "text": [
      "在测试集上评估最佳模型...\n"
     ]
    },
    {
     "ename": "NameError",
     "evalue": "name 'model' is not defined",
     "output_type": "error",
     "traceback": [
      "\u001b[1;31m---------------------------------------------------------------------------\u001b[0m",
      "\u001b[1;31mNameError\u001b[0m                                 Traceback (most recent call last)",
      "Cell \u001b[1;32mIn[3], line 5\u001b[0m\n\u001b[0;32m      2\u001b[0m \u001b[38;5;28mprint\u001b[39m(\u001b[38;5;124m\"\u001b[39m\u001b[38;5;124m在测试集上评估最佳模型...\u001b[39m\u001b[38;5;124m\"\u001b[39m)\n\u001b[0;32m      4\u001b[0m \u001b[38;5;66;03m# 加载最佳模型\u001b[39;00m\n\u001b[1;32m----> 5\u001b[0m \u001b[43mmodel\u001b[49m\u001b[38;5;241m.\u001b[39mload_state_dict(torch\u001b[38;5;241m.\u001b[39mload(\u001b[38;5;124m'\u001b[39m\u001b[38;5;124m../output/textcnn_best.pth\u001b[39m\u001b[38;5;124m'\u001b[39m))\n\u001b[0;32m      7\u001b[0m test_loss, test_acc \u001b[38;5;241m=\u001b[39m evaluate(model, test_loader, criterion, device)\n\u001b[0;32m      9\u001b[0m \u001b[38;5;28mprint\u001b[39m(\u001b[38;5;124m\"\u001b[39m\u001b[38;5;130;01m\\n\u001b[39;00m\u001b[38;5;124m\"\u001b[39m \u001b[38;5;241m+\u001b[39m \u001b[38;5;124m\"\u001b[39m\u001b[38;5;124m=\u001b[39m\u001b[38;5;124m\"\u001b[39m\u001b[38;5;241m*\u001b[39m\u001b[38;5;241m60\u001b[39m)\n",
      "\u001b[1;31mNameError\u001b[0m: name 'model' is not defined"
     ]
    }
   ],
   "source": [
    "# Cell 8: 在测试集上评估\n",
    "print(\"在测试集上评估最佳模型...\")\n",
    "\n",
    "# 加载最佳模型\n",
    "model.load_state_dict(torch.load('../output/textcnn_best.pth'))\n",
    "\n",
    "test_loss, test_acc = evaluate(model, test_loader, criterion, device)\n",
    "\n",
    "print(\"\\n\" + \"=\"*60)\n",
    "print(\"TextCNN模型最终结果\")\n",
    "print(\"=\"*60)\n",
    "print(f\"测试集准确率: {test_acc:.2f}%\")\n",
    "print(f\"测试集损失: {test_loss:.4f}\")\n",
    "print(\"=\"*60)\n",
    "\n",
    "print(\"\\nTextCNN模型训练和评估完成！\")\n",
    "\n"
   ]
  },
  {
   "cell_type": "code",
   "execution_count": 4,
   "metadata": {
    "ExecuteTime": {
     "end_time": "2025-10-29T12:26:46.209003Z",
     "start_time": "2025-10-29T12:26:46.177459Z"
    }
   },
   "outputs": [
    {
     "ename": "NameError",
     "evalue": "name 'pd' is not defined",
     "output_type": "error",
     "traceback": [
      "\u001b[1;31m---------------------------------------------------------------------------\u001b[0m",
      "\u001b[1;31mNameError\u001b[0m                                 Traceback (most recent call last)",
      "Cell \u001b[1;32mIn[4], line 2\u001b[0m\n\u001b[0;32m      1\u001b[0m \u001b[38;5;66;03m# 检查实际的文本长度\u001b[39;00m\n\u001b[1;32m----> 2\u001b[0m train \u001b[38;5;241m=\u001b[39m \u001b[43mpd\u001b[49m\u001b[38;5;241m.\u001b[39mread_pickle(\u001b[38;5;124m'\u001b[39m\u001b[38;5;124m../data/processed/train_processed.pkl\u001b[39m\u001b[38;5;124m'\u001b[39m)\n\u001b[0;32m      4\u001b[0m \u001b[38;5;66;03m# 计算非padding的长度\u001b[39;00m\n\u001b[0;32m      5\u001b[0m \u001b[38;5;28;01mdef\u001b[39;00m\u001b[38;5;250m \u001b[39m\u001b[38;5;21mget_real_length\u001b[39m(ids):\n",
      "\u001b[1;31mNameError\u001b[0m: name 'pd' is not defined"
     ]
    }
   ],
   "source": [
    "# 检查实际的文本长度\n",
    "train = pd.read_pickle('../data/processed/train_processed.pkl')\n",
    "\n",
    "# 计算非padding的长度\n",
    "def get_real_length(ids):\n",
    "    return len([x for x in ids if x != 0])\n",
    "\n",
    "train['real_len'] = train['ids'].apply(get_real_length)\n",
    "\n",
    "print(\"文本长度统计（分词后）:\")\n",
    "print(f\"平均长度: {train['real_len'].mean():.1f} 词\")\n",
    "print(f\"中位数: {train['real_len'].median():.1f} 词\")\n",
    "print(f\"最大: {train['real_len'].max()} 词\")\n",
    "print(f\"最小: {train['real_len'].min()} 词\")\n",
    "\n",
    "# 长度分布\n",
    "import matplotlib.pyplot as plt\n",
    "plt.rcParams['font.sans-serif'] = ['SimHei']\n",
    "\n",
    "# 计算平均值（避免f-string引号冲突）\n",
    "mean_len = train['real_len'].mean()\n",
    "\n",
    "plt.figure(figsize=(10, 5))\n",
    "plt.hist(train['real_len'], bins=50)\n",
    "plt.xlabel('文本长度（词数）')\n",
    "plt.ylabel('频数')\n",
    "plt.title('文本长度分布')\n",
    "plt.axvline(mean_len, color='r', linestyle='--', label=f'平均{mean_len:.1f}')\n",
    "plt.legend()\n",
    "plt.show()\n",
    "\n",
    "# 统计\n",
    "count_10 = (train['real_len'] < 10).sum()\n",
    "count_20 = (train['real_len'] < 20).sum()\n",
    "print(f\"\\n<10词的文本: {count_10} ({count_10/len(train)*100:.1f}%)\")\n",
    "print(f\"<20词的文本: {count_20} ({count_20/len(train)*100:.1f}%)\")"
   ]
  },
  {
   "cell_type": "code",
   "execution_count": null,
   "metadata": {},
   "outputs": [],
   "source": []
  }
 ],
 "metadata": {
  "kernelspec": {
   "display_name": "Python 3 (ipykernel)",
   "language": "python",
   "name": "python3"
  },
  "language_info": {
   "name": "python"
  }
 },
 "nbformat": 4,
 "nbformat_minor": 2
}
