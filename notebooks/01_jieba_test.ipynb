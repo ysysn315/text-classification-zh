{
 "cells": [
  {
   "cell_type": "markdown",
   "metadata": {},
   "source": [
    "# jieba分词实验\n",
    "\n",
    "Day 1: 熟悉jieba中文分词工具\n"
   ]
  },
  {
   "cell_type": "code",
   "execution_count": null,
   "metadata": {
    "ExecuteTime": {
     "end_time": "2025-10-27T11:39:24.379259Z",
     "start_time": "2025-10-27T11:39:23.511100Z"
    }
   },
   "outputs": [
    {
     "name": "stderr",
     "output_type": "stream",
     "text": [
      "D:\\Anaconda\\envs\\dl\\lib\\site-packages\\jieba\\_compat.py:18: UserWarning: pkg_resources is deprecated as an API. See https://setuptools.pypa.io/en/latest/pkg_resources.html. The pkg_resources package is slated for removal as early as 2025-11-30. Refrain from using this package or pin to Setuptools<81.\n",
      "  import pkg_resources\n"
     ]
    },
    {
     "name": "stdout",
     "output_type": "stream",
     "text": [
      "✅ 导入成功\n"
     ]
    }
   ],
   "source": [
    "# 导入库\n",
    "import jieba\n",
    "from collections import Counter\n",
    "\n",
    "print(\"✅ 导入成功\")\n"
   ]
  },
  {
   "cell_type": "code",
   "execution_count": null,
   "metadata": {
    "ExecuteTime": {
     "end_time": "2025-10-27T11:43:13.869437Z",
     "start_time": "2025-10-27T11:43:13.843445Z"
    }
   },
   "outputs": [
    {
     "name": "stdout",
     "output_type": "stream",
     "text": [
      "精确模式: 我 / 爱 / 自然语言处理 / 和 / 深度学习\n",
      "<generator object Tokenizer.cut at 0x0000023BA13A40B0>\n"
     ]
    }
   ],
   "source": [
    "# 基础分词测试\n",
    "text = \"我爱自然语言处理和深度学习\"\n",
    "\n",
    "# 精确模式\n",
    "words = jieba.cut(text, cut_all=False)\n",
    "print(\"精确模式:\", \" / \".join(words))\n",
    "print(words)\n"
   ]
  },
  {
   "cell_type": "code",
   "execution_count": null,
   "metadata": {
    "ExecuteTime": {
     "end_time": "2025-10-27T11:43:00.461505Z",
     "start_time": "2025-10-27T11:43:00.437055Z"
    }
   },
   "outputs": [
    {
     "name": "stdout",
     "output_type": "stream",
     "text": [
      "添加词典后: 深度学习 / 在 / 自然语言处理 / 中 / 应用 / 广泛\n"
     ]
    }
   ],
   "source": [
    "# 添加自定义词典\n",
    "jieba.add_word('深度学习')\n",
    "jieba.add_word('自然语言处理')\n",
    "jieba.add_word('机器学习')\n",
    "\n",
    "text2 = \"深度学习在自然语言处理中应用广泛\"\n",
    "words = jieba.cut(text2)\n",
    "print(\"添加词典后:\", \" / \".join(words))\n"
   ]
  },
  {
   "cell_type": "code",
   "execution_count": null,
   "metadata": {
    "ExecuteTime": {
     "end_time": "2025-10-27T11:44:15.456074Z",
     "start_time": "2025-10-27T11:44:15.438537Z"
    }
   },
   "outputs": [
    {
     "name": "stdout",
     "output_type": "stream",
     "text": [
      "去除停用词: 今天 / 天气 / 我们 / 一起 / 电影吧\n"
     ]
    }
   ],
   "source": [
    "# 停用词过滤\n",
    "stopwords = set(['的', '了', '在', '是', '我', '有', '和', '就', \n",
    "                 '不', '人', '都', '一', '一个', '上', '也', '很',\n",
    "                 '到', '说', '要', '去', '你', '会', '着', '没有'])\n",
    "\n",
    "text3 = \"今天的天气很好，我们一起去看电影吧\"\n",
    "words = [w for w in jieba.cut(text3) if w not in stopwords and len(w) > 1]\n",
    "print(\"去除停用词:\", \" / \".join(words))\n"
   ]
  },
  {
   "cell_type": "markdown",
   "metadata": {},
   "source": []
  },
  {
   "cell_type": "code",
   "execution_count": 6,
   "metadata": {
    "ExecuteTime": {
     "end_time": "2025-10-27T11:45:05.705082Z",
     "start_time": "2025-10-27T11:45:05.691450Z"
    }
   },
   "outputs": [
    {
     "name": "stdout",
     "output_type": "stream",
     "text": [
      "\n",
      "✅ jieba分词实验完成！\n",
      "下一步: 安装依赖、下载THUCNews数据集\n"
     ]
    }
   ],
   "source": [
    "print(\"\\n✅ jieba分词实验完成！\")\n",
    "print(\"下一步: 安装依赖、下载THUCNews数据集\")\n"
   ]
  },
  {
   "cell_type": "code",
   "execution_count": 11,
   "metadata": {
    "ExecuteTime": {
     "end_time": "2025-10-27T12:01:49.543338Z",
     "start_time": "2025-10-27T12:00:51.653817Z"
    }
   },
   "outputs": [
    {
     "data": {
      "application/vnd.jupyter.widget-view+json": {
       "model_id": "3d4c16eb756549adbdab1bbe8f259d0b",
       "version_major": 2,
       "version_minor": 0
      },
      "text/plain": [
       "README.md: 0.00B [00:00, ?B/s]"
      ]
     },
     "metadata": {},
     "output_type": "display_data"
    },
    {
     "name": "stderr",
     "output_type": "stream",
     "text": [
      "D:\\Anaconda\\envs\\dl\\lib\\site-packages\\huggingface_hub\\file_download.py:143: UserWarning: `huggingface_hub` cache-system uses symlinks by default to efficiently store duplicated files but your machine does not support them in C:\\Users\\ysn\\.cache\\huggingface\\hub\\datasets--clue. Caching files will still work but in a degraded version that might require more space on your disk. This warning can be disabled by setting the `HF_HUB_DISABLE_SYMLINKS_WARNING` environment variable. For more details, see https://huggingface.co/docs/huggingface_hub/how-to-cache#limitations.\n",
      "To support symlinks on Windows, you either need to activate Developer Mode or to run Python as an administrator. In order to activate developer mode, see this article: https://docs.microsoft.com/en-us/windows/apps/get-started/enable-your-device-for-development\n",
      "  warnings.warn(message)\n",
      "Xet Storage is enabled for this repo, but the 'hf_xet' package is not installed. Falling back to regular HTTP download. For better performance, install the package with: `pip install huggingface_hub[hf_xet]` or `pip install hf_xet`\n"
     ]
    },
    {
     "data": {
      "application/vnd.jupyter.widget-view+json": {
       "model_id": "6e3ebf02fc5645f18b1cd7dccd4713f6",
       "version_major": 2,
       "version_minor": 0
      },
      "text/plain": [
       "test-00000-of-00001.parquet:   0%|          | 0.00/655k [00:00<?, ?B/s]"
      ]
     },
     "metadata": {},
     "output_type": "display_data"
    },
    {
     "name": "stderr",
     "output_type": "stream",
     "text": [
      "Xet Storage is enabled for this repo, but the 'hf_xet' package is not installed. Falling back to regular HTTP download. For better performance, install the package with: `pip install huggingface_hub[hf_xet]` or `pip install hf_xet`\n"
     ]
    },
    {
     "data": {
      "application/vnd.jupyter.widget-view+json": {
       "model_id": "ea74e30db97446859ada14883279a5e7",
       "version_major": 2,
       "version_minor": 0
      },
      "text/plain": [
       "train-00000-of-00001.parquet:   0%|          | 0.00/3.40M [00:00<?, ?B/s]"
      ]
     },
     "metadata": {},
     "output_type": "display_data"
    },
    {
     "name": "stderr",
     "output_type": "stream",
     "text": [
      "Xet Storage is enabled for this repo, but the 'hf_xet' package is not installed. Falling back to regular HTTP download. For better performance, install the package with: `pip install huggingface_hub[hf_xet]` or `pip install hf_xet`\n"
     ]
    },
    {
     "data": {
      "application/vnd.jupyter.widget-view+json": {
       "model_id": "49b586118553471395b45c137e47095e",
       "version_major": 2,
       "version_minor": 0
      },
      "text/plain": [
       "validation-00000-of-00001.parquet:   0%|          | 0.00/643k [00:00<?, ?B/s]"
      ]
     },
     "metadata": {},
     "output_type": "display_data"
    },
    {
     "data": {
      "application/vnd.jupyter.widget-view+json": {
       "model_id": "7535e4de7b2944fd8b8571dab6f04143",
       "version_major": 2,
       "version_minor": 0
      },
      "text/plain": [
       "Generating test split:   0%|          | 0/10000 [00:00<?, ? examples/s]"
      ]
     },
     "metadata": {},
     "output_type": "display_data"
    },
    {
     "data": {
      "application/vnd.jupyter.widget-view+json": {
       "model_id": "6ac43fe8874f44738a3b493022dc745c",
       "version_major": 2,
       "version_minor": 0
      },
      "text/plain": [
       "Generating train split:   0%|          | 0/53360 [00:00<?, ? examples/s]"
      ]
     },
     "metadata": {},
     "output_type": "display_data"
    },
    {
     "data": {
      "application/vnd.jupyter.widget-view+json": {
       "model_id": "760753430fa1448f8b720370b342c1d9",
       "version_major": 2,
       "version_minor": 0
      },
      "text/plain": [
       "Generating validation split:   0%|          | 0/10000 [00:00<?, ? examples/s]"
      ]
     },
     "metadata": {},
     "output_type": "display_data"
    },
    {
     "name": "stdout",
     "output_type": "stream",
     "text": [
      "DatasetDict({\n",
      "    test: Dataset({\n",
      "        features: ['sentence', 'label', 'idx'],\n",
      "        num_rows: 10000\n",
      "    })\n",
      "    train: Dataset({\n",
      "        features: ['sentence', 'label', 'idx'],\n",
      "        num_rows: 53360\n",
      "    })\n",
      "    validation: Dataset({\n",
      "        features: ['sentence', 'label', 'idx'],\n",
      "        num_rows: 10000\n",
      "    })\n",
      "})\n"
     ]
    }
   ],
   "source": [
    "# 从HuggingFace下载TNEWS（中文新闻分类）\n",
    "from datasets import load_dataset\n",
    "\n",
    "# TNEWS: 今日头条中文新闻分类\n",
    "dataset = load_dataset(\"clue\", \"tnews\")\n",
    "\n",
    "print(dataset)"
   ]
  },
  {
   "metadata": {
    "ExecuteTime": {
     "end_time": "2025-10-27T12:09:24.755211Z",
     "start_time": "2025-10-27T12:09:24.723436Z"
    }
   },
   "cell_type": "code",
   "source": [
    "# 查看数据集有哪些字段\n",
    "print(\"训练集字段:\")\n",
    "print(dataset['train'].column_names)\n",
    "\n",
    "print(\"\\n第一条数据:\")\n",
    "print(dataset['train'][0])\n",
    "\n",
    "print(\"\\n数据结构:\")\n",
    "print(dataset['train'].features)"
   ],
   "outputs": [
    {
     "name": "stdout",
     "output_type": "stream",
     "text": [
      "训练集字段:\n",
      "['sentence', 'label', 'idx']\n",
      "\n",
      "第一条数据:\n",
      "{'sentence': '上课时学生手机响个不停，老师一怒之下把手机摔了，家长拿发票让老师赔，大家怎么看待这种事？', 'label': 7, 'idx': 0}\n",
      "\n",
      "数据结构:\n",
      "{'sentence': Value('string'), 'label': ClassLabel(names=['100', '101', '102', '103', '104', '106', '107', '108', '109', '110', '112', '113', '114', '115', '116']), 'idx': Value('int32')}\n"
     ]
    }
   ],
   "execution_count": 13
  },
  {
   "metadata": {
    "ExecuteTime": {
     "end_time": "2025-10-27T12:16:41.489275Z",
     "start_time": "2025-10-27T12:16:34.481562Z"
    }
   },
   "cell_type": "code",
   "source": [
    "import pandas as pd\n",
    "\n",
    "# TNEWS的15个类别映射\n",
    "label_map = {\n",
    "    '100': '故事',\n",
    "    '101': '文化',\n",
    "    '102': '娱乐',\n",
    "    '103': '体育',\n",
    "    '104': '财经',\n",
    "    '106': '房产',\n",
    "    '107': '汽车',\n",
    "    '108': '教育',\n",
    "    '109': '科技',\n",
    "    '110': '军事',\n",
    "    '112': '旅游',\n",
    "    '113': '国际',\n",
    "    '114': '股票',\n",
    "    '115': '农业',\n",
    "    '116': '游戏'\n",
    "}\n",
    "\n",
    "# 转换训练集\n",
    "train_df = pd.DataFrame({\n",
    "    'text': dataset['train']['sentence'],\n",
    "    'label_num': dataset['train']['label'],  # 数字标签\n",
    "})\n",
    "\n",
    "# 添加中文标签名\n",
    "train_df['label'] = train_df['label_num'].astype(str).map(label_map)\n",
    "\n",
    "# 验证集\n",
    "val_df = pd.DataFrame({\n",
    "    'text': dataset['validation']['sentence'],\n",
    "    'label_num': dataset['validation']['label'],\n",
    "})\n",
    "val_df['label'] = val_df['label_num'].astype(str).map(label_map)\n",
    "\n",
    "# 测试集\n",
    "test_df = pd.DataFrame({\n",
    "    'text': dataset['test']['sentence'],\n",
    "    'label_num': dataset['test']['label'],\n",
    "})\n",
    "test_df['label'] = test_df['label_num'].astype(str).map(label_map)\n",
    "\n",
    "print(f\"✅ 数据转换完成！\")\n",
    "print(f\"\\n训练集: {len(train_df)}\")\n",
    "print(f\"验证集: {len(val_df)}\")\n",
    "print(f\"测试集: {len(test_df)}\")\n",
    "\n",
    "print(f\"\\n类别分布:\")\n",
    "print(train_df['label'].value_counts())\n",
    "\n",
    "print(f\"\\n前3条数据:\")\n",
    "print(train_df[['text', 'label']].head(3))\n",
    "\n",
    "# 保存为CSV\n",
    "import os\n",
    "os.makedirs('../data/processed/', exist_ok=True)\n",
    "\n",
    "train_df[['text', 'label']].to_csv('../data/processed/train.csv', index=False)\n",
    "val_df[['text', 'label']].to_csv('../data/processed/val.csv', index=False)\n",
    "test_df[['text', 'label']].to_csv('../data/processed/test.csv', index=False)\n",
    "\n",
    "print(f\"\\n✅ 数据已保存到: data/processed/\")\n",
    "print(\"文件:\")\n",
    "print(\"  - train.csv (训练集)\")\n",
    "print(\"  - val.csv (验证集)\")\n",
    "print(\"  - test.csv (测试集)\")"
   ],
   "outputs": [
    {
     "name": "stdout",
     "output_type": "stream",
     "text": [
      "✅ 数据转换完成！\n",
      "\n",
      "训练集: 53360\n",
      "验证集: 10000\n",
      "测试集: 10000\n",
      "\n",
      "类别分布:\n",
      "Series([], Name: count, dtype: int64)\n",
      "\n",
      "前3条数据:\n",
      "                                             text label\n",
      "0    上课时学生手机响个不停，老师一怒之下把手机摔了，家长拿发票让老师赔，大家怎么看待这种事？   NaN\n",
      "1  商赢环球股份有限公司关于延期回复上海证券交易所对公司2017年年度报告的事后审核问询函的公告   NaN\n",
      "2                通过中介公司买了二手房，首付都付了，现在卖家不想卖了。怎么处理？   NaN\n",
      "\n",
      "✅ 数据已保存到: data/processed/\n",
      "文件:\n",
      "  - train.csv (训练集)\n",
      "  - val.csv (验证集)\n",
      "  - test.csv (测试集)\n"
     ]
    }
   ],
   "execution_count": 14
  },
  {
   "metadata": {
    "ExecuteTime": {
     "end_time": "2025-10-27T12:19:26.357490Z",
     "start_time": "2025-10-27T12:19:25.969686Z"
    }
   },
   "cell_type": "code",
   "source": [
    "# 读取保存的CSV文件\n",
    "import pandas as pd\n",
    "\n",
    "train = pd.read_csv('../data/processed/train.csv')\n",
    "val = pd.read_csv('../data/processed/val.csv')\n",
    "test = pd.read_csv('../data/processed/test.csv')\n",
    "\n",
    "print(\"✅ 文件读取成功！\")\n",
    "print(f\"\\n训练集: {len(train)} 条\")\n",
    "print(f\"验证集: {len(val)} 条\")\n",
    "print(f\"测试集: {len(test)} 条\")\n",
    "\n",
    "print(f\"\\n训练集前3条:\")\n",
    "print(train.head(3))\n",
    "\n",
    "print(f\"\\n类别统计:\")\n",
    "print(train['label'].value_counts())"
   ],
   "outputs": [
    {
     "name": "stdout",
     "output_type": "stream",
     "text": [
      "✅ 文件读取成功！\n",
      "\n",
      "训练集: 53360 条\n",
      "验证集: 10000 条\n",
      "测试集: 10000 条\n",
      "\n",
      "训练集前3条:\n",
      "                                             text  label\n",
      "0    上课时学生手机响个不停，老师一怒之下把手机摔了，家长拿发票让老师赔，大家怎么看待这种事？    NaN\n",
      "1  商赢环球股份有限公司关于延期回复上海证券交易所对公司2017年年度报告的事后审核问询函的公告    NaN\n",
      "2                通过中介公司买了二手房，首付都付了，现在卖家不想卖了。怎么处理？    NaN\n",
      "\n",
      "类别统计:\n",
      "Series([], Name: count, dtype: int64)\n"
     ]
    }
   ],
   "execution_count": 15
  },
  {
   "metadata": {},
   "cell_type": "code",
   "outputs": [],
   "execution_count": null,
   "source": ""
  }
 ],
 "metadata": {
  "kernelspec": {
   "display_name": "Python 3 (ipykernel)",
   "language": "python",
   "name": "python3"
  },
  "language_info": {
   "name": "python"
  }
 },
 "nbformat": 4,
 "nbformat_minor": 2
}
