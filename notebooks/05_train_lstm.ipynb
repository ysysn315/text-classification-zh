{
 "cells": [
  {
   "cell_type": "markdown",
   "metadata": {},
   "source": [
    "# Day 5: LSTM模型训练\n",
    "\n",
    "实现和训练LSTM模型，对比TextCNN的结果\n"
   ]
  },
  {
   "cell_type": "code",
   "execution_count": null,
   "metadata": {
    "ExecuteTime": {
     "end_time": "2025-10-31T07:51:12.518097Z",
     "start_time": "2025-10-31T07:51:07.978239Z"
    }
   },
   "outputs": [
    {
     "name": "stdout",
     "output_type": "stream",
     "text": [
      "使用设备: cuda\n",
      "导入成功\n"
     ]
    }
   ],
   "source": [
    "# Cell 1: 导入库\n",
    "import sys\n",
    "sys.path.append('..')\n",
    "\n",
    "import torch\n",
    "import torch.nn as nn\n",
    "import torch.optim as optim\n",
    "from torch.utils.data import DataLoader\n",
    "import pickle\n",
    "import numpy as np\n",
    "from tqdm import tqdm\n",
    "import matplotlib.pyplot as plt\n",
    "\n",
    "# 导入模型和数据集\n",
    "from src.models.lstm import LSTMClassifier\n",
    "from src.utils.dataset import TextDataset\n",
    "\n",
    "# 设置随机种子\n",
    "torch.manual_seed(42)\n",
    "np.random.seed(42)\n",
    "\n",
    "# 检查GPU\n",
    "device = torch.device('cuda' if torch.cuda.is_available() else 'cpu')\n",
    "print(f\"使用设备: {device}\")\n",
    "print(\"导入成功\")\n"
   ]
  },
  {
   "cell_type": "code",
   "execution_count": null,
   "metadata": {
    "ExecuteTime": {
     "end_time": "2025-10-31T07:51:23.078456Z",
     "start_time": "2025-10-31T07:51:14.428836Z"
    }
   },
   "outputs": [
    {
     "name": "stdout",
     "output_type": "stream",
     "text": [
      "加载数据...\n",
      "加载数据: 45462 条\n",
      "加载数据: 9742 条\n",
      "加载数据: 9743 条\n",
      "\n",
      "训练集: 45462 条\n",
      "验证集: 9742 条\n",
      "测试集: 9743 条\n",
      "词表大小: 117,355\n",
      "数据加载完成\n"
     ]
    }
   ],
   "source": [
    "# Cell 2: 加载数据（复用之前的）\n",
    "print(\"加载数据...\")\n",
    "\n",
    "train_dataset = TextDataset('../data/processed/train_processed.pkl')\n",
    "val_dataset = TextDataset('../data/processed/val_processed.pkl')\n",
    "test_dataset = TextDataset('../data/processed/test_processed.pkl')\n",
    "\n",
    "batch_size = 64\n",
    "\n",
    "train_loader = DataLoader(train_dataset, batch_size=batch_size, shuffle=True)\n",
    "val_loader = DataLoader(val_dataset, batch_size=batch_size, shuffle=False)\n",
    "test_loader = DataLoader(test_dataset, batch_size=batch_size, shuffle=False)\n",
    "\n",
    "# 读取词表\n",
    "with open('../data/processed/vocab.pkl', 'rb') as f:\n",
    "    vocab = pickle.load(f)\n",
    "\n",
    "print(f\"\\n训练集: {len(train_dataset)} 条\")\n",
    "print(f\"验证集: {len(val_dataset)} 条\")\n",
    "print(f\"测试集: {len(test_dataset)} 条\")\n",
    "print(f\"词表大小: {len(vocab):,}\")\n",
    "print(\"数据加载完成\")\n"
   ]
  },
  {
   "cell_type": "code",
   "execution_count": null,
   "metadata": {
    "ExecuteTime": {
     "end_time": "2025-10-31T07:51:27.136802Z",
     "start_time": "2025-10-31T07:51:26.700229Z"
    }
   },
   "outputs": [
    {
     "name": "stdout",
     "output_type": "stream",
     "text": [
      "初始化LSTM模型...\n",
      "LSTMClassifier(\n",
      "  (embedding): Embedding(117355, 300)\n",
      "  (lstm): LSTM(300, 256, num_layers=2, batch_first=True, dropout=0.5, bidirectional=True)\n",
      "  (dropout): Dropout(p=0.5, inplace=False)\n",
      "  (fc): Linear(in_features=512, out_features=14, bias=True)\n",
      ")\n",
      "\n",
      "模型参数量: 37,933,426\n",
      "LSTM模型初始化完成\n"
     ]
    }
   ],
   "source": [
    "# Cell 3: 初始化LSTM模型\n",
    "print(\"初始化LSTM模型...\")\n",
    "\n",
    "model = LSTMClassifier(\n",
    "    vocab_size=len(vocab),\n",
    "    embed_dim=300,\n",
    "    hidden_size=256,\n",
    "    num_layers=2,\n",
    "    num_classes=14,\n",
    "    dropout=0.5,\n",
    "    bidirectional=True  # 双向LSTM\n",
    ")\n",
    "\n",
    "model = model.to(device)\n",
    "\n",
    "# 打印模型结构\n",
    "print(model)\n",
    "print(f\"\\n模型参数量: {sum(p.numel() for p in model.parameters()):,}\")\n",
    "print(\"LSTM模型初始化完成\")\n"
   ]
  },
  {
   "cell_type": "code",
   "execution_count": null,
   "metadata": {
    "ExecuteTime": {
     "end_time": "2025-10-31T07:51:31.205237Z",
     "start_time": "2025-10-31T07:51:31.191185Z"
    }
   },
   "outputs": [
    {
     "name": "stdout",
     "output_type": "stream",
     "text": [
      "训练函数定义完成\n"
     ]
    }
   ],
   "source": [
    "# Cell 4: 训练和评估函数（复用）\n",
    "\n",
    "def train_epoch(model, dataloader, criterion, optimizer, device):\n",
    "    \"\"\"训练一个epoch\"\"\"\n",
    "    model.train()\n",
    "    total_loss = 0\n",
    "    correct = 0\n",
    "    total = 0\n",
    "    \n",
    "    for ids, labels in tqdm(dataloader, desc='Training'):\n",
    "        ids = ids.to(device)\n",
    "        labels = labels.to(device)\n",
    "        \n",
    "        outputs = model(ids)\n",
    "        loss = criterion(outputs, labels)\n",
    "        \n",
    "        optimizer.zero_grad()\n",
    "        loss.backward()\n",
    "        \n",
    "        # 梯度裁剪（防止梯度爆炸，LSTM常用）\n",
    "        torch.nn.utils.clip_grad_norm_(model.parameters(), max_norm=5.0)\n",
    "        \n",
    "        optimizer.step()\n",
    "        \n",
    "        total_loss += loss.item()\n",
    "        _, predicted = torch.max(outputs, 1)\n",
    "        total += labels.size(0)\n",
    "        correct += (predicted == labels).sum().item()\n",
    "    \n",
    "    avg_loss = total_loss / len(dataloader)\n",
    "    accuracy = 100 * correct / total\n",
    "    \n",
    "    return avg_loss, accuracy\n",
    "\n",
    "\n",
    "def evaluate(model, dataloader, criterion, device):\n",
    "    \"\"\"评估模型\"\"\"\n",
    "    model.eval()\n",
    "    total_loss = 0\n",
    "    correct = 0\n",
    "    total = 0\n",
    "    \n",
    "    with torch.no_grad():\n",
    "        for ids, labels in tqdm(dataloader, desc='Evaluating'):\n",
    "            ids = ids.to(device)\n",
    "            labels = labels.to(device)\n",
    "            \n",
    "            outputs = model(ids)\n",
    "            loss = criterion(outputs, labels)\n",
    "            \n",
    "            total_loss += loss.item()\n",
    "            _, predicted = torch.max(outputs, 1)\n",
    "            total += labels.size(0)\n",
    "            correct += (predicted == labels).sum().item()\n",
    "    \n",
    "    avg_loss = total_loss / len(dataloader)\n",
    "    accuracy = 100 * correct / total\n",
    "    \n",
    "    return avg_loss, accuracy\n",
    "\n",
    "print(\"训练函数定义完成\")\n"
   ]
  },
  {
   "cell_type": "code",
   "execution_count": null,
   "metadata": {
    "ExecuteTime": {
     "end_time": "2025-10-31T07:51:38.613603Z",
     "start_time": "2025-10-31T07:51:35.618829Z"
    }
   },
   "outputs": [
    {
     "name": "stdout",
     "output_type": "stream",
     "text": [
      "训练配置完成\n",
      "  Epochs: 10\n",
      "  Batch size: 64\n",
      "  Learning rate: 0.001\n",
      "  Optimizer: Adam\n",
      "  Device: cuda\n"
     ]
    }
   ],
   "source": [
    "# Cell 5: 训练配置\n",
    "criterion = nn.CrossEntropyLoss()\n",
    "optimizer = optim.Adam(model.parameters(), lr=0.001)\n",
    "scheduler = optim.lr_scheduler.ReduceLROnPlateau(\n",
    "    optimizer, mode='max', factor=0.5, patience=2\n",
    ")\n",
    "\n",
    "num_epochs = 10\n",
    "best_val_acc = 0\n",
    "\n",
    "history = {\n",
    "    'train_loss': [],\n",
    "    'train_acc': [],\n",
    "    'val_loss': [],\n",
    "    'val_acc': []\n",
    "}\n",
    "\n",
    "print(\"训练配置完成\")\n",
    "print(f\"  Epochs: {num_epochs}\")\n",
    "print(f\"  Batch size: {batch_size}\")\n",
    "print(f\"  Learning rate: 0.001\")\n",
    "print(f\"  Optimizer: Adam\")\n",
    "print(f\"  Device: {device}\")\n"
   ]
  },
  {
   "cell_type": "code",
   "execution_count": null,
   "metadata": {
    "ExecuteTime": {
     "end_time": "2025-10-31T08:19:55.880076Z",
     "start_time": "2025-10-31T07:51:47.987048Z"
    }
   },
   "outputs": [
    {
     "name": "stdout",
     "output_type": "stream",
     "text": [
      "============================================================\n",
      "开始训练LSTM模型\n",
      "============================================================\n",
      "\n",
      "Epoch 1/10\n",
      "----------------------------------------\n"
     ]
    },
    {
     "name": "stderr",
     "output_type": "stream",
     "text": [
      "Training: 100%|██████████| 711/711 [02:48<00:00,  4.22it/s]\n",
      "Evaluating: 100%|██████████| 153/153 [00:13<00:00, 11.25it/s]\n"
     ]
    },
    {
     "name": "stdout",
     "output_type": "stream",
     "text": [
      "Train Loss: 0.7263, Train Acc: 78.06%\n",
      "Val Loss: 0.3569, Val Acc: 89.79%\n",
      "保存最佳模型 (Val Acc: 89.79%)\n",
      "\n",
      "Epoch 2/10\n",
      "----------------------------------------\n"
     ]
    },
    {
     "name": "stderr",
     "output_type": "stream",
     "text": [
      "Training: 100%|██████████| 711/711 [02:13<00:00,  5.31it/s]\n",
      "Evaluating: 100%|██████████| 153/153 [00:09<00:00, 15.52it/s]\n"
     ]
    },
    {
     "name": "stdout",
     "output_type": "stream",
     "text": [
      "Train Loss: 0.2395, Train Acc: 93.19%\n",
      "Val Loss: 0.2809, Val Acc: 92.07%\n",
      "保存最佳模型 (Val Acc: 92.07%)\n",
      "\n",
      "Epoch 3/10\n",
      "----------------------------------------\n"
     ]
    },
    {
     "name": "stderr",
     "output_type": "stream",
     "text": [
      "Training: 100%|██████████| 711/711 [02:10<00:00,  5.47it/s]\n",
      "Evaluating: 100%|██████████| 153/153 [00:08<00:00, 17.88it/s]\n"
     ]
    },
    {
     "name": "stdout",
     "output_type": "stream",
     "text": [
      "Train Loss: 0.1309, Train Acc: 96.22%\n",
      "Val Loss: 0.2581, Val Acc: 92.96%\n",
      "保存最佳模型 (Val Acc: 92.96%)\n",
      "\n",
      "Epoch 4/10\n",
      "----------------------------------------\n"
     ]
    },
    {
     "name": "stderr",
     "output_type": "stream",
     "text": [
      "Training: 100%|██████████| 711/711 [02:05<00:00,  5.68it/s]\n",
      "Evaluating: 100%|██████████| 153/153 [00:09<00:00, 15.64it/s]\n"
     ]
    },
    {
     "name": "stdout",
     "output_type": "stream",
     "text": [
      "Train Loss: 0.0672, Train Acc: 98.10%\n",
      "Val Loss: 0.2775, Val Acc: 92.95%\n",
      "\n",
      "Epoch 5/10\n",
      "----------------------------------------\n"
     ]
    },
    {
     "name": "stderr",
     "output_type": "stream",
     "text": [
      "Training: 100%|██████████| 711/711 [02:16<00:00,  5.22it/s]\n",
      "Evaluating: 100%|██████████| 153/153 [00:08<00:00, 17.25it/s]\n"
     ]
    },
    {
     "name": "stdout",
     "output_type": "stream",
     "text": [
      "Train Loss: 0.0389, Train Acc: 98.94%\n",
      "Val Loss: 0.3075, Val Acc: 92.65%\n",
      "\n",
      "Epoch 6/10\n",
      "----------------------------------------\n"
     ]
    },
    {
     "name": "stderr",
     "output_type": "stream",
     "text": [
      "Training: 100%|██████████| 711/711 [02:49<00:00,  4.19it/s]\n",
      "Evaluating: 100%|██████████| 153/153 [00:13<00:00, 11.32it/s]\n"
     ]
    },
    {
     "name": "stdout",
     "output_type": "stream",
     "text": [
      "Train Loss: 0.0317, Train Acc: 99.08%\n",
      "Val Loss: 0.3173, Val Acc: 93.27%\n",
      "保存最佳模型 (Val Acc: 93.27%)\n",
      "\n",
      "Epoch 7/10\n",
      "----------------------------------------\n"
     ]
    },
    {
     "name": "stderr",
     "output_type": "stream",
     "text": [
      "Training: 100%|██████████| 711/711 [02:59<00:00,  3.97it/s]\n",
      "Evaluating: 100%|██████████| 153/153 [00:09<00:00, 15.56it/s]\n"
     ]
    },
    {
     "name": "stdout",
     "output_type": "stream",
     "text": [
      "Train Loss: 0.0225, Train Acc: 99.33%\n",
      "Val Loss: 0.3436, Val Acc: 92.78%\n",
      "\n",
      "Epoch 8/10\n",
      "----------------------------------------\n"
     ]
    },
    {
     "name": "stderr",
     "output_type": "stream",
     "text": [
      "Training: 100%|██████████| 711/711 [02:44<00:00,  4.32it/s]\n",
      "Evaluating: 100%|██████████| 153/153 [00:13<00:00, 11.54it/s]\n"
     ]
    },
    {
     "name": "stdout",
     "output_type": "stream",
     "text": [
      "Train Loss: 0.0228, Train Acc: 99.31%\n",
      "Val Loss: 0.4006, Val Acc: 92.35%\n",
      "\n",
      "Epoch 9/10\n",
      "----------------------------------------\n"
     ]
    },
    {
     "name": "stderr",
     "output_type": "stream",
     "text": [
      "Training: 100%|██████████| 711/711 [03:04<00:00,  3.85it/s]\n",
      "Evaluating: 100%|██████████| 153/153 [00:10<00:00, 14.30it/s]\n"
     ]
    },
    {
     "name": "stdout",
     "output_type": "stream",
     "text": [
      "Train Loss: 0.0165, Train Acc: 99.52%\n",
      "Val Loss: 0.3639, Val Acc: 93.44%\n",
      "保存最佳模型 (Val Acc: 93.44%)\n",
      "\n",
      "Epoch 10/10\n",
      "----------------------------------------\n"
     ]
    },
    {
     "name": "stderr",
     "output_type": "stream",
     "text": [
      "Training: 100%|██████████| 711/711 [03:00<00:00,  3.94it/s]\n",
      "Evaluating: 100%|██████████| 153/153 [00:15<00:00,  9.60it/s]\n"
     ]
    },
    {
     "name": "stdout",
     "output_type": "stream",
     "text": [
      "Train Loss: 0.0138, Train Acc: 99.62%\n",
      "Val Loss: 0.3516, Val Acc: 93.18%\n",
      "\n",
      "============================================================\n",
      "LSTM训练完成！\n",
      "============================================================\n",
      "最佳验证准确率: 93.44%\n"
     ]
    }
   ],
   "source": [
    "# Cell 6: 开始训练LSTM！\n",
    "print(\"=\"*60)\n",
    "print(\"开始训练LSTM模型\")\n",
    "print(\"=\"*60)\n",
    "\n",
    "for epoch in range(num_epochs):\n",
    "    print(f\"\\nEpoch {epoch+1}/{num_epochs}\")\n",
    "    print(\"-\" * 40)\n",
    "    \n",
    "    # 训练\n",
    "    train_loss, train_acc = train_epoch(model, train_loader, criterion, optimizer, device)\n",
    "    \n",
    "    # 验证\n",
    "    val_loss, val_acc = evaluate(model, val_loader, criterion, device)\n",
    "    \n",
    "    # 记录\n",
    "    history['train_loss'].append(train_loss)\n",
    "    history['train_acc'].append(train_acc)\n",
    "    history['val_loss'].append(val_loss)\n",
    "    history['val_acc'].append(val_acc)\n",
    "    \n",
    "    # 打印\n",
    "    print(f\"Train Loss: {train_loss:.4f}, Train Acc: {train_acc:.2f}%\")\n",
    "    print(f\"Val Loss: {val_loss:.4f}, Val Acc: {val_acc:.2f}%\")\n",
    "    \n",
    "    # 保存最佳模型\n",
    "    if val_acc > best_val_acc:\n",
    "        best_val_acc = val_acc\n",
    "        torch.save(model.state_dict(), '../output/lstm_best.pth')\n",
    "        print(f\"保存最佳模型 (Val Acc: {val_acc:.2f}%)\")\n",
    "    \n",
    "    # 学习率调度\n",
    "    scheduler.step(val_acc)\n",
    "\n",
    "print(\"\\n\" + \"=\"*60)\n",
    "print(\"LSTM训练完成！\")\n",
    "print(\"=\"*60)\n",
    "print(f\"最佳验证准确率: {best_val_acc:.2f}%\")\n"
   ]
  },
  {
   "cell_type": "code",
   "execution_count": null,
   "metadata": {
    "ExecuteTime": {
     "end_time": "2025-10-31T08:22:45.896266Z",
     "start_time": "2025-10-31T08:22:45.156348Z"
    }
   },
   "outputs": [
    {
     "data": {
      "image/png": "[encoded data removed]",
      "text/plain": [
       "<Figure size 1400x500 with 2 Axes>"
      ]
     },
     "metadata": {},
     "output_type": "display_data"
    },
    {
     "name": "stdout",
     "output_type": "stream",
     "text": [
      " 训练曲线已保存\n"
     ]
    }
   ],
   "source": [
    "# Cell 7: 可视化训练曲线\n",
    "import matplotlib.pyplot as plt\n",
    "plt.rcParams['font.sans-serif'] = ['SimHei']\n",
    "plt.rcParams['axes.unicode_minus'] = False\n",
    "\n",
    "fig, (ax1, ax2) = plt.subplots(1, 2, figsize=(14, 5))\n",
    "\n",
    "# 损失曲线\n",
    "ax1.plot(history['train_loss'], label='Train Loss', marker='o')\n",
    "ax1.plot(history['val_loss'], label='Val Loss', marker='s')\n",
    "ax1.set_xlabel('Epoch')\n",
    "ax1.set_ylabel('Loss')\n",
    "ax1.set_title('LSTM训练和验证损失')\n",
    "ax1.legend()\n",
    "ax1.grid(True)\n",
    "\n",
    "# 准确率曲线\n",
    "ax2.plot(history['train_acc'], label='Train Acc', marker='o')\n",
    "ax2.plot(history['val_acc'], label='Val Acc', marker='s')\n",
    "ax2.set_xlabel('Epoch')\n",
    "ax2.set_ylabel('Accuracy (%)')\n",
    "ax2.set_title('LSTM训练和验证准确率')\n",
    "ax2.legend()\n",
    "ax2.grid(True)\n",
    "\n",
    "plt.tight_layout()\n",
    "plt.savefig('../output/lstm_training_curve.png', dpi=150)\n",
    "plt.show()\n",
    "\n",
    "print(\" 训练曲线已保存\")\n"
   ]
  },
  {
   "cell_type": "code",
   "execution_count": null,
   "metadata": {
    "ExecuteTime": {
     "end_time": "2025-10-31T08:22:57.214284Z",
     "start_time": "2025-10-31T08:22:49.445809Z"
    }
   },
   "outputs": [
    {
     "name": "stdout",
     "output_type": "stream",
     "text": [
      "在测试集上评估LSTM...\n"
     ]
    },
    {
     "name": "stderr",
     "output_type": "stream",
     "text": [
      "Evaluating: 100%|██████████| 153/153 [00:07<00:00, 20.39it/s]"
     ]
    },
    {
     "name": "stdout",
     "output_type": "stream",
     "text": [
      "\n",
      "============================================================\n",
      "LSTM模型最终结果\n",
      "============================================================\n",
      "测试集准确率: 93.47%\n",
      "测试集损失: 0.3154\n",
      "============================================================\n",
      "\n",
      " LSTM训练和评估完成！\n"
     ]
    },
    {
     "name": "stderr",
     "output_type": "stream",
     "text": [
      "\n"
     ]
    }
   ],
   "source": [
    "# Cell 8: 测试集评估\n",
    "print(\"在测试集上评估LSTM...\")\n",
    "\n",
    "model.load_state_dict(torch.load('../output/lstm_best.pth'))\n",
    "test_loss, test_acc = evaluate(model, test_loader, criterion, device)\n",
    "\n",
    "print(\"\\n\" + \"=\"*60)\n",
    "print(\"LSTM模型最终结果\")\n",
    "print(\"=\"*60)\n",
    "print(f\"测试集准确率: {test_acc:.2f}%\")\n",
    "print(f\"测试集损失: {test_loss:.4f}\")\n",
    "print(\"=\"*60)\n",
    "\n",
    "print(\"\\n LSTM训练和评估完成！\")\n"
   ]
  },
  {
   "cell_type": "code",
   "execution_count": null,
   "metadata": {
    "ExecuteTime": {
     "end_time": "2025-10-31T08:23:00.301654Z",
     "start_time": "2025-10-31T08:23:00.232062Z"
    }
   },
   "outputs": [
    {
     "name": "stdout",
     "output_type": "stream",
     "text": [
      "============================================================\n",
      " TextCNN vs LSTM 对比\n",
      "============================================================\n",
      "     模型    验证集准确率    测试集准确率   参数量\n",
      "TextCNN 94.830000 94.740000  3.9M\n",
      "   LSTM 93.440772 93.472236 37.9M\n",
      "\n",
      " 对比分析:\n",
      "  - LSTM比TextCNN准确率低 1.39%\n",
      "  - LSTM参数量更多\n",
      "  - LSTM能捕捉序列信息，TextCNN提取局部特征\n"
     ]
    }
   ],
   "source": [
    "# Cell 9: 对比TextCNN vs LSTM\n",
    "import pandas as pd\n",
    "\n",
    "print(\"=\"*60)\n",
    "print(\" TextCNN vs LSTM 对比\")\n",
    "print(\"=\"*60)\n",
    "\n",
    "# 创建对比表格\n",
    "results = {\n",
    "    '模型': ['TextCNN', 'LSTM'],\n",
    "    '验证集准确率': [94.83, best_val_acc],  # TextCNN的结果，LSTM的best_val_acc\n",
    "    '测试集准确率': [94.74, test_acc],\n",
    "    '参数量': ['3.9M', f'{sum(p.numel() for p in model.parameters())/1e6:.1f}M'],\n",
    "    \n",
    "}\n",
    "\n",
    "df_results = pd.DataFrame(results)\n",
    "print(df_results.to_string(index=False))\n",
    "\n",
    "print(\"\\n 对比分析:\")\n",
    "print(f\"  - LSTM比TextCNN准确率{'高' if best_val_acc > 94.83 else '低'} {abs(best_val_acc-94.83):.2f}%\")\n",
    "print(f\"  - LSTM参数量更{'多' if sum(p.numel() for p in model.parameters()) > 3.9e6 else '少'}\")\n",
    "print(f\"  - LSTM能捕捉序列信息，TextCNN提取局部特征\")\n",
    "\n",
    "\n"
   ]
  },
  {
   "cell_type": "code",
   "execution_count": null,
   "metadata": {},
   "outputs": [],
   "source": []
  }
 ],
 "metadata": {
  "kernelspec": {
   "display_name": "Python 3 (ipykernel)",
   "language": "python",
   "name": "python3"
  },
  "language_info": {
   "name": "python"
  }
 },
 "nbformat": 4,
 "nbformat_minor": 2
}
